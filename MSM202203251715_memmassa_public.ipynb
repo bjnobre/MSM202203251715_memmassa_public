{
 "cells": [
  {
   "cell_type": "markdown",
   "id": "6652ffe2-d81b-45eb-8666-777aa90f4599",
   "metadata": {
    "tags": []
   },
   "source": [
    "# Estudo de memória de massa\n",
    "Cliente: Mineração Serra Morena LTDA (10.754.267/0001-28 / UC 6/1704190-6)  \n",
    "Período de análise: 01/09/2021 00:15 a 01/12/2021 00:00"
   ]
  },
  {
   "cell_type": "code",
   "execution_count": null,
   "id": "50a9deda-113b-497f-83bd-2a09e00819b4",
   "metadata": {
    "tags": []
   },
   "outputs": [],
   "source": [
    "k_med = 700.0\n",
    "# print(f\"   >>> k_med = {k_med}\")"
   ]
  },
  {
   "cell_type": "markdown",
   "id": "1aad2bf6-3620-47f6-a953-f7dc7254743b",
   "metadata": {
    "tags": []
   },
   "source": [
    "## Memória de massa de demanda\n",
    "Arquivo CSV (\"dem_02520700_20220112_113243.csv\") : "
   ]
  },
  {
   "cell_type": "code",
   "execution_count": null,
   "id": "4c0ee779-b340-4a9f-bfdb-0c646608e416",
   "metadata": {
    "tags": []
   },
   "outputs": [],
   "source": [
    "import pandas as pd\n",
    "pd.set_option('display.max_rows', None)"
   ]
  },
  {
   "cell_type": "code",
   "execution_count": null,
   "id": "4a7f7f9d-b2c4-462a-a97f-a3590fc78701",
   "metadata": {
    "tags": []
   },
   "outputs": [],
   "source": [
    "dem_filename = 'dem_02520700_20220112_113243.csv'\n",
    "df_dem = pd.read_csv(dem_filename, delimiter=';')\n",
    "\n",
    "# rename columns\n",
    "df_dem.rename(columns = {'Data': 'data', 'kW fornecido': 'kw', 'Postos horários': 'posto', 'UFER': 'ufer', 'DMCR': 'dmcr'}, inplace = True)\n",
    "df_dem['posto'] = list(map(lambda s: s.replace('Fora Ponta','FP')\n",
    "                                       .replace('Ponta', 'PT'),\n",
    "                           df_dem['posto']))\n",
    "df_dem['data'] = pd.to_datetime(df_dem['data'], format='%d/%m/%Y %H:%M')              # convert to timedate\n",
    "df_dem.set_index('data')                                                              # set the index\n",
    "df_dem['kw'], df_dem['ufer'], df_dem['dmcr'] = \\\n",
    "    map(lambda s: s.str.replace(',', '.')\n",
    "                   .str.replace('-', '0')\n",
    "                   .astype('float64'),\n",
    "        (df_dem['kw'], df_dem['ufer'], df_dem['dmcr']))                              # convert to float\n",
    "df_dem['kw'], df_dem['ufer'], df_dem['dmcr'] = map(lambda x: x*k_med, \n",
    "                                                   (df_dem['kw'], df_dem['ufer'], df_dem['dmcr']))\n",
    "df_dem.drop('Dia', axis='columns', inplace=True)                                     # remove unnecessary columns\n",
    "\n",
    "# print('Primeiras 5 linhas da tabela:')\n",
    "# display(df_dem.head())\n",
    "# print('Últimas5 linhas da tabela:')\n",
    "# display(df_dem.tail())"
   ]
  },
  {
   "cell_type": "markdown",
   "id": "dfdaa1e7-c8a7-40e9-8520-0932d501210a",
   "metadata": {
    "tags": []
   },
   "source": [
    "## Memória de massa de consumo\n",
    "Arquivo CSV (\"dem_02520700_20220112_113243.csv\") : "
   ]
  },
  {
   "cell_type": "code",
   "execution_count": null,
   "id": "9894fa16-f205-4936-82f2-05e3d74d042d",
   "metadata": {
    "tags": []
   },
   "outputs": [],
   "source": [
    "cons_filename = 'cons_02520700_20220112_112952.csv'\n",
    "df_cons = pd.read_csv(cons_filename, delimiter=';')\n",
    "\n",
    "# rename columns\n",
    "df_cons.rename(columns = {'Data': 'data', 'Posto': 'posto', 'kWh': 'kwh'}, inplace = True)\n",
    "df_cons['posto'] = list(map(lambda s: s.replace('Fora Ponta','FP')\n",
    "                                       .replace('Ponta', 'PT'),\n",
    "                           df_cons['posto']))\n",
    "df_cons['data'] = pd.to_datetime(df_cons['data'], format='%d/%m/%Y %H:%M')       # convert to timedate\n",
    "df_cons['kwh'] = list(map(lambda s: float(s.replace(',', '.')\n",
    "                                     .replace('-', '0')),\n",
    "                        (df_cons['kwh'])))                                       # convert to float\n",
    "df_cons['kwh'] = list(map(lambda x: x*k_med, (df_cons['kwh'])))\n",
    "df_cons.drop('Dia', axis='columns', inplace=True)                                # remove unnecessary data and set index\n",
    "\n",
    "# print('Primeiras 5 linhas da tabela:')\n",
    "# display(df_cons.head())\n",
    "# print('Últimas5 linhas da tabela:')\n",
    "# display(df_cons.tail())"
   ]
  },
  {
   "cell_type": "code",
   "execution_count": null,
   "id": "c9a786a4-ff6f-4640-a659-b69ab11ff487",
   "metadata": {
    "tags": []
   },
   "outputs": [],
   "source": [
    "# joined CONS and DEM dataframe \n",
    "df = pd.concat([df_dem, df_cons['kwh']], axis=1)                                           # merge the two dataframes\n",
    "df['hr_int'] = (df.index + 2) // 4                                                         # group each 4 rows\n",
    "df = df[['hr_int', 'data', 'posto', 'kwh', 'kw', 'ufer', 'dmcr']]                          # only/reorderes columns\n",
    "# display(df.head())"
   ]
  },
  {
   "cell_type": "code",
   "execution_count": null,
   "id": "64a92a8f-08cc-48da-ab0a-c95c7df77a8a",
   "metadata": {
    "tags": []
   },
   "outputs": [],
   "source": [
    "# Dataframe for UFER and DMCR analisys\n",
    "df_ufer = df.groupby(['hr_int', 'posto']).agg({'kwh': 'sum', 'kw': 'sum', 'ufer':'sum', 'dmcr': 'sum', 'data': 'max'}).reset_index()\n",
    "df_ufer = df_ufer[['data', 'posto', 'kwh', 'ufer', 'dmcr']]\n",
    "\n",
    "# print('Primeiras 5 linhas da tabela:')\n",
    "# display(df_ufer.head())\n",
    "# print('Últimas5 linhas da tabela:')\n",
    "# display(df_ufer.tail())"
   ]
  },
  {
   "cell_type": "code",
   "execution_count": null,
   "id": "d533a55e-d007-4aa1-9239-edb6bab48806",
   "metadata": {
    "tags": []
   },
   "outputs": [],
   "source": [
    "import numpy as np"
   ]
  },
  {
   "cell_type": "code",
   "execution_count": null,
   "id": "54c79996-7248-4e15-bf95-51a39683c04d",
   "metadata": {
    "tags": []
   },
   "outputs": [],
   "source": [
    "P1 = df_ufer['kwh']\n",
    "UFER = df_ufer['ufer']\n",
    "DMCR = df_ufer['dmcr']\n",
    "Sr = (P1 + UFER)/0.92\n",
    "Qp = P1 * np.tan(np.arccos(0.92))\n",
    "Ft = P1/Sr\n",
    "Qt = Sr * np.sin(np.arccos(Ft))\n",
    "Qe = Qt - Qp\n",
    "df_ufer['ft'] = round(Ft,2)\n",
    "df_ufer['qe'] = round(Qe)\n",
    "df_ufer.fillna(0, inplace=True)\n",
    "\n",
    "# print('Primeiras 5 linhas da tabela:')\n",
    "# display(df_ufer.head())\n",
    "# print('Últimas5 linhas da tabela:')\n",
    "# display(df_ufer.tail())"
   ]
  },
  {
   "cell_type": "markdown",
   "id": "7d8bed71-c0eb-41bb-81de-00c2d8444d5b",
   "metadata": {},
   "source": [
    "## Gráfico e tabelas"
   ]
  },
  {
   "cell_type": "code",
   "execution_count": null,
   "id": "6097ddbb-673c-40c2-b8ec-3f2980df8583",
   "metadata": {
    "tags": []
   },
   "outputs": [],
   "source": [
    "# plot the dat\n",
    "import plotly.express as px\n",
    "import plotly.graph_objects as go\n",
    "import ipywidgets as wdg\n",
    "from IPython.display import clear_output\n",
    "from ipywidgets import VBox, HBox, Label, Layout, Output\n",
    "from datetime import date, datetime\n",
    "import calendar"
   ]
  },
  {
   "cell_type": "code",
   "execution_count": null,
   "id": "3488edf1-50f5-42bf-be06-9251845c0eb9",
   "metadata": {
    "tags": []
   },
   "outputs": [],
   "source": [
    "months = df_ufer['data'].dt.strftime('%m/%Y').unique()\n",
    "months_wdg = wdg.SelectMultiple(\n",
    "                                    options=months,\n",
    "                                    value=[],\n",
    "                                    layout=Layout(width='95%')\n",
    "                                )\n",
    "weeks_wdg = wdg.SelectMultiple(layout=Layout(width='95%'))\n",
    "\n",
    "table = wdg.Output(layout=Layout(height='300px'))\n",
    "graph = wdg.Output()\n",
    "    \n",
    "def on_change(change):\n",
    "    if change['type'] == 'change' and change['name'] == 'value':\n",
    "        if change['owner'] == months_wdg:\n",
    "            first_month = datetime.strptime(months_wdg.value[0], '%m/%Y')\n",
    "            last_month = datetime.strptime(months_wdg.value[-1], '%m/%Y')\n",
    "            first_day = date(first_month.year, first_month.month, 1)\n",
    "            last_day = date(last_month.year, last_month.month, calendar.monthrange(year=last_month.year, month=last_month.month)[1])\n",
    "            weeks = range(first_day.isocalendar()[1], last_day.isocalendar()[1] + 1)\n",
    "            weeks_wdg.options=weeks\n",
    "            weeks_wdg.value=list(weeks)\n",
    "            \n",
    "        if change['owner'] == weeks_wdg:\n",
    "            data = df_ufer[df_ufer['data'].dt.strftime('%U').isin(str(x) for x in weeks_wdg.value)]\n",
    "            if data['qe'].empty:\n",
    "                data['max_qe'] = list(map(lambda x: None, data['qe']))\n",
    "            else:\n",
    "                data['max_qe'] = max(data['qe'])\n",
    "            data['qexc'] = list(map(lambda d: '' if d == 0 else d, data['qe']))\n",
    "            data['ufer_fp'] = data['ufer'].where(data['posto'] == 'FP').fillna(0)\n",
    "            data['ufer_pt'] = data['ufer'].where(data['posto'] == 'PT').fillna(0)\n",
    "            with graph:\n",
    "                clear_output(True)\n",
    "                fig = go.Figure()\n",
    "                fig.add_trace(\n",
    "                    go.Bar(\n",
    "                            x=data['data'],\n",
    "                            y=data['ufer_fp'],\n",
    "                            marker=dict(color = 'blue'),\n",
    "                            legendgroup='ufer',\n",
    "                            legendgrouptitle_text='UFER',\n",
    "                            name='Fora de Ponta'\n",
    "                    )\n",
    "                )\n",
    "                fig.add_trace(\n",
    "                    go.Bar(\n",
    "                            x=data['data'],\n",
    "                            y=data['ufer_pt'],\n",
    "                            marker=dict(color = 'green'),\n",
    "                            legendgroup='ufer',\n",
    "                            name='Ponta'\n",
    "                    )\n",
    "                )\n",
    "                fig.add_trace(\n",
    "                    go.Scatter(\n",
    "                                x=data['data'],\n",
    "                                y=data['qexc'],\n",
    "                                mode='lines',\n",
    "                                marker=dict(color = 'rgb(230,160,160)', size=2.5),\n",
    "                                legendgroup='qe',\n",
    "                                legendgrouptitle_text='Pot. reativa excedente*',\n",
    "                                name='Por intervalo'\n",
    "                    )\n",
    "                )\n",
    "                fig.add_trace(\n",
    "                    go.Scatter(\n",
    "                                x=data['data'],\n",
    "                                y=data['max_qe'],\n",
    "                                mode='lines',\n",
    "                                marker=dict(color = 'red'),\n",
    "                                legendgroup='qe',\n",
    "                                name='Máxima do período'\n",
    "                    )\n",
    "                )\n",
    "                fig.update_layout(\n",
    "                                    legend_title_text='Legenda',\n",
    "                                    title=\"UFER E POTÊNCIA REATIVA EXCEDENTE\",\n",
    "                                    xaxis_title=\"Data\",\n",
    "                                    yaxis_title=\"UFER / kVAR\",\n",
    "                                    font=dict(size=10)\n",
    "                )\n",
    "                fig.update_xaxes(tickangle=-90)\n",
    "                fig.show()\n",
    "                print('* O valor da potência reativa excedente é igual à potência de capacitores em deficiência')\n",
    "            with table:\n",
    "                clear_output(True)\n",
    "                display(data[['data', 'posto', 'ufer', 'dmcr', 'ft', 'qe']])            \n",
    "\n",
    "months_wdg.observe(on_change)\n",
    "weeks_wdg.observe(on_change)\n",
    "\n",
    "border = ''\n",
    "display(HBox([\n",
    "                VBox([\n",
    "                        Label('Mês'), \n",
    "                        months_wdg,\n",
    "                        Label('Semana do mês'),\n",
    "                        weeks_wdg\n",
    "                    ],\n",
    "                    layout=Layout(display='flex', border=border, width='10%')\n",
    "                ),\n",
    "                VBox([\n",
    "                        Label('Gráfico'),\n",
    "                        graph\n",
    "                    ],\n",
    "                    layout=Layout(display='flex', border=border, width='60%')\n",
    "                ),\n",
    "                VBox([\n",
    "                        Label('Tabela de dados'),\n",
    "                        table\n",
    "                    ],\n",
    "                    layout=Layout(display='overflow', border=border, width='30%')\n",
    "                )\n",
    "            ])\n",
    ")"
   ]
  },
  {
   "cell_type": "markdown",
   "id": "06983787-9569-4ba4-b7a4-708fc2b41789",
   "metadata": {},
   "source": [
    "## Resumo do excedente de reativos por mês"
   ]
  },
  {
   "cell_type": "code",
   "execution_count": null,
   "id": "65413821-55e0-4530-bdd9-dc9397ea2b05",
   "metadata": {},
   "outputs": [],
   "source": [
    "df = df_ufer[['data', 'posto', 'qe']]\n",
    "df = df.groupby([df_ufer['data'].dt.strftime('%m/%Y'), df_ufer['posto']]).agg({'qe': 'max'}).reset_index()\n",
    "display(df)"
   ]
  }
 ],
 "metadata": {
  "kernelspec": {
   "display_name": "Python 3 (ipykernel)",
   "language": "python",
   "name": "python3"
  },
  "language_info": {
   "codemirror_mode": {
    "name": "ipython",
    "version": 3
   },
   "file_extension": ".py",
   "mimetype": "text/x-python",
   "name": "python",
   "nbconvert_exporter": "python",
   "pygments_lexer": "ipython3",
   "version": "3.8.10"
  },
  "toc-showcode": false,
  "toc-showmarkdowntxt": false
 },
 "nbformat": 4,
 "nbformat_minor": 5
}
